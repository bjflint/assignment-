{
  "metadata": {
    "language_info": {
      "codemirror_mode": {
        "name": "python",
        "version": 3
      },
      "file_extension": ".py",
      "mimetype": "text/x-python",
      "name": "python",
      "nbconvert_exporter": "python",
      "pygments_lexer": "ipython3",
      "version": "3.8"
    },
    "kernelspec": {
      "name": "python",
      "display_name": "Pyolite",
      "language": "python"
    }
  },
  "nbformat_minor": 4,
  "nbformat": 4,
  "cells": [
    {
      "cell_type": "markdown",
      "source": "# \"My Jupyter Notebook on IBM Watson\"  ",
      "metadata": {}
    },
    {
      "cell_type": "markdown",
      "source": "**Brittany Flint\n\nData Science",
      "metadata": {}
    },
    {
      "cell_type": "markdown",
      "source": "*Im interested in Data Science because I've alaways had a passion for knowledge, numbers, and information. I would like to take my passion and turn it in a career where I can flourish, and use my natural skills.",
      "metadata": {}
    },
    {
      "cell_type": "markdown",
      "source": "### My code is to be an smiple addition problem where.",
      "metadata": {}
    },
    {
      "cell_type": "code",
      "source": "\"5+5\" ",
      "metadata": {},
      "execution_count": null,
      "outputs": []
    },
    {
      "cell_type": "markdown",
      "source": "***\n\nThis has been an intresting course!\n\n***\n\n'I can't wait to learn more'\n\n* Score a good grade\n* Finish the course with an A\n* Get the jobs of my dreams\n",
      "metadata": {}
    }
  ]
}